{
 "cells": [
  {
   "cell_type": "markdown",
   "id": "3c7599da-8c2a-4da6-af9f-5aa53c2834d1",
   "metadata": {},
   "source": [
    "# 1. Implement BPE Algorithm (4 marks):"
   ]
  },
  {
   "cell_type": "code",
   "execution_count": 543,
   "id": "c5a011bc-cadb-44ad-8a35-60adf9810d80",
   "metadata": {},
   "outputs": [],
   "source": [
    "from collections import Counter, defaultdict\n",
    "import re\n",
    "\n",
    "class BPE:\n",
    "    def __init__(self):\n",
    "        self.vocab = None\n",
    "        self.merges = []\n",
    "\n",
    "    def get_vocab(self, sentences):\n",
    "        \n",
    "        vocab = Counter()\n",
    "        for sentence in sentences:\n",
    "            for word in sentence.split():\n",
    "                \n",
    "                vocab[' '.join(list(word)) + ' </w>'] += 1\n",
    "        return vocab\n",
    "\n",
    "    def get_stats(self, vocab):\n",
    "        \n",
    "        pairs = Counter()\n",
    "        for word, freq in vocab.items():\n",
    "            symbols = word.split()\n",
    "            for i in range(len(symbols) - 1):\n",
    "                pairs[symbols[i], symbols[i + 1]] += freq\n",
    "        return pairs\n",
    "\n",
    "    def merge_vocab(self, pair, vocab):\n",
    "        \n",
    "        new_vocab = {}\n",
    "        bigram = re.escape(' '.join(pair))\n",
    "        pattern = re.compile(r'(\\b{})'.format(bigram))\n",
    "        for word in vocab:\n",
    "            \n",
    "            new_word = pattern.sub(''.join(pair), word)\n",
    "            new_vocab[new_word] = vocab[word]\n",
    "        return new_vocab\n",
    "\n",
    "    def train(self, sentences, num_merges):\n",
    "        \n",
    "        self.vocab = self.get_vocab(sentences)\n",
    "        \n",
    "        for _ in range(num_merges):\n",
    "            pairs = self.get_stats(self.vocab)\n",
    "            if not pairs:\n",
    "                break\n",
    "            \n",
    "            best_pair = max(pairs, key=pairs.get)\n",
    "            \n",
    "           \n",
    "            self.merges.append(best_pair)\n",
    "            \n",
    "            \n",
    "            self.vocab = self.merge_vocab(best_pair, self.vocab)\n",
    "\n",
    "    def tokenize(self, word):\n",
    "      \n",
    "        tokens = list(word) + ['</w>']\n",
    "        merge_rules = {tuple(pair): ''.join(pair) for pair in self.merges}\n",
    "\n",
    "        while True:\n",
    "            pairs = [(tokens[i], tokens[i + 1]) for i in range(len(tokens) - 1)]\n",
    "            pair = next((p for p in pairs if p in merge_rules), None)\n",
    "\n",
    "            if not pair:\n",
    "                break\n",
    "\n",
    "            i = 0\n",
    "            while i < len(tokens) - 1:\n",
    "                if tokens[i] == pair[0] and tokens[i + 1] == pair[1]:\n",
    "                    tokens[i] = merge_rules[pair]\n",
    "                    del tokens[i + 1]\n",
    "                else:\n",
    "                    i += 1\n",
    "\n",
    "        return tokens\n",
    "\n",
    "    def evaluate(self, sentences, ground_truth):\n",
    "       \n",
    "        total_tokens = 0\n",
    "        matched_tokens = 0\n",
    "        predicted_tokens = 0\n",
    "        ground_truth_tokens = 0\n",
    "        covered_words = 0\n",
    "\n",
    "        for sentence, truth in zip(sentences, ground_truth):\n",
    "            for word, truth_tokens in zip(sentence.split(), truth):\n",
    "                predicted = self.tokenize(word)\n",
    "                predicted_tokens += len(predicted)\n",
    "                ground_truth_tokens += len(truth_tokens)\n",
    "\n",
    "                # Count matched tokens\n",
    "                matched_tokens += len(set(predicted) & set(truth_tokens))\n",
    "\n",
    "                # Check coverage\n",
    "                if ''.join(predicted).replace('</w>', '') == word:\n",
    "                    covered_words += 1\n",
    "\n",
    "                total_tokens += 1\n",
    "\n",
    "        accuracy = covered_words / total_tokens\n",
    "        precision = matched_tokens / predicted_tokens if predicted_tokens else 0\n",
    "        recall = matched_tokens / ground_truth_tokens if ground_truth_tokens else 0\n",
    "        f1_score = 2 * precision * recall / (precision + recall) if precision + recall else 0\n",
    "\n",
    "        return {\n",
    "            \"accuracy\": accuracy,\n",
    "            \"coverage\": covered_words / len(sentences),\n",
    "            \"precision\": precision,\n",
    "            \"recall\": recall,\n",
    "            \"f1_score\": f1_score,\n",
    "        }\n",
    "\n"
   ]
  },
  {
   "cell_type": "code",
   "execution_count": 311,
   "id": "e15b9ec3-c84c-4f6f-89bf-6ff35560c6d2",
   "metadata": {},
   "outputs": [
    {
     "name": "stdout",
     "output_type": "stream",
     "text": [
      "Final Vocabulary:\n",
      "low</w>: 1\n",
      "lower</w>: 1\n",
      "lowest</w>: 1\n",
      "n e w er</w>: 1\n",
      "w i d er</w>: 1\n",
      "t a l l est</w>: 1\n",
      "\n",
      "Merge Operations:\n",
      "Step 1: ('l', 'o')\n",
      "Step 2: ('lo', 'w')\n",
      "Step 3: ('e', 'r')\n",
      "Step 4: ('er', '</w>')\n",
      "Step 5: ('e', 's')\n",
      "Step 6: ('es', 't')\n",
      "Step 7: ('est', '</w>')\n",
      "Step 8: ('low', '</w>')\n",
      "Step 9: ('low', 'er</w>')\n",
      "Step 10: ('low', 'est</w>')\n",
      "\n",
      "Evaluation Metrics:\n",
      "Accuracy: 1.0000\n",
      "Coverage: 3.0000\n",
      "Precision: 0.5625\n",
      "Recall: 0.2432\n",
      "F1_score: 0.3396\n"
     ]
    }
   ],
   "source": [
    "# Example Usage\n",
    "if __name__ == \"__main__\":\n",
    "    sentences = [\n",
    "        \"low lower lowest\",\n",
    "        \"newer wider tallest\",\n",
    "    ]\n",
    "    ground_truth = [\n",
    "        [[\"l\", \"o\", \"w\", \"</w>\"], [\"l\", \"o\", \"w\", \"e\", \"r\", \"</w>\"], [\"l\", \"o\", \"w\", \"e\", \"s\", \"t\", \"</w>\"]],\n",
    "        [[\"n\", \"e\", \"w\", \"e\", \"r\", \"</w>\"], [\"w\", \"i\", \"d\", \"e\", \"r\", \"</w>\"], [\"t\", \"a\", \"l\", \"l\", \"e\", \"s\", \"t\", \"</w>\"]],\n",
    "    ]\n",
    "    num_merges = 10\n",
    "\n",
    "    bpe_model = BPE()\n",
    "    bpe_model.train(sentences, num_merges)\n",
    "\n",
    "    print(\"Final Vocabulary:\")\n",
    "    for word, freq in bpe_model.vocab.items():\n",
    "        print(f\"{word}: {freq}\")\n",
    "\n",
    "    print(\"\\nMerge Operations:\")\n",
    "    for i, merge in enumerate(bpe_model.merges):\n",
    "        print(f\"Step {i + 1}: {merge}\")\n",
    "\n",
    "    metrics = bpe_model.evaluate(sentences, ground_truth)\n",
    "\n",
    "    print(\"\\nEvaluation Metrics:\")\n",
    "    for metric, value in metrics.items():\n",
    "        print(f\"{metric.capitalize()}: {value:.4f}\")"
   ]
  },
  {
   "cell_type": "markdown",
   "id": "037a7525-6fbd-47f7-88a2-4782c2bab406",
   "metadata": {},
   "source": [
    "# 2. Train on NLTK Dataset (3 marks):"
   ]
  },
  {
   "cell_type": "code",
   "execution_count": 313,
   "id": "f3460c8f-d897-48fa-8957-5e65a35e60d3",
   "metadata": {},
   "outputs": [
    {
     "name": "stderr",
     "output_type": "stream",
     "text": [
      "[nltk_data] Downloading package gutenberg to\n",
      "[nltk_data]     /Users/manishkanuri/nltk_data...\n",
      "[nltk_data]   Package gutenberg is already up-to-date!\n"
     ]
    },
    {
     "data": {
      "text/plain": [
       "['austen-emma.txt',\n",
       " 'austen-persuasion.txt',\n",
       " 'austen-sense.txt',\n",
       " 'bible-kjv.txt',\n",
       " 'blake-poems.txt',\n",
       " 'bryant-stories.txt',\n",
       " 'burgess-busterbrown.txt',\n",
       " 'carroll-alice.txt',\n",
       " 'chesterton-ball.txt',\n",
       " 'chesterton-brown.txt',\n",
       " 'chesterton-thursday.txt',\n",
       " 'edgeworth-parents.txt',\n",
       " 'melville-moby_dick.txt',\n",
       " 'milton-paradise.txt',\n",
       " 'shakespeare-caesar.txt',\n",
       " 'shakespeare-hamlet.txt',\n",
       " 'shakespeare-macbeth.txt',\n",
       " 'whitman-leaves.txt']"
      ]
     },
     "execution_count": 313,
     "metadata": {},
     "output_type": "execute_result"
    }
   ],
   "source": [
    "import nltk\n",
    "nltk.download('gutenberg')\n",
    "from nltk.corpus import gutenberg\n",
    "book_list = gutenberg.fileids()\n",
    "book_list"
   ]
  },
  {
   "cell_type": "markdown",
   "id": "b5b88bcd-8bf5-44ea-b33a-3a267ba38588",
   "metadata": {},
   "source": [
    "# 3. Test on NLTK Dataset (3 marks):"
   ]
  },
  {
   "cell_type": "code",
   "execution_count": 507,
   "id": "d2740feb-e80b-4444-9985-571cd258315b",
   "metadata": {},
   "outputs": [
    {
     "name": "stderr",
     "output_type": "stream",
     "text": [
      "[nltk_data] Downloading package stopwords to\n",
      "[nltk_data]     /Users/manishkanuri/nltk_data...\n",
      "[nltk_data]   Package stopwords is already up-to-date!\n"
     ]
    }
   ],
   "source": [
    "from nltk.corpus import stopwords\n",
    "nltk.download('stopwords')\n",
    "stop_words = set(stopwords.words('english')) \n",
    "def preprocess_text(text):\n",
    "   \n",
    "    text = text.lower()\n",
    "    words = text.split()\n",
    "    filtered_words = [word for word in words if word not in stop_words]\n",
    "    return \" \".join(filtered_words)\n",
    "\n",
    "def evaluate_tokenization(predicted_tokens, ground_truth_tokens):\n",
    "    \n",
    "    total_tokens = 0\n",
    "    matched_tokens = 0\n",
    "    predicted_tokens_count = 0\n",
    "    ground_truth_tokens_count = 0\n",
    "    covered_words = 0\n",
    "    jaccard_similarities = []\n",
    "\n",
    "    for pred_sent, true_sent in zip(predicted_tokens, ground_truth_tokens):\n",
    "        for pred_words, true_words in zip(pred_sent, true_sent):\n",
    "            predicted_tokens_count += len(pred_words)\n",
    "            ground_truth_tokens_count += len(true_words)\n",
    "\n",
    "            \n",
    "            if isinstance(pred_words[0], list):\n",
    "                pred_words = [item for sublist in pred_words for item in sublist]\n",
    "\n",
    "            matched_tokens += len(set(pred_words) & set(true_words))\n",
    "\n",
    "          \n",
    "            jaccard_similarities.append(jaccard_similarity(set(pred_words), set(true_words)))\n",
    "\n",
    "            if ''.join([item for sublist in pred_words for item in sublist]).replace('</w>', '') == ''.join(true_words):\n",
    "                covered_words += 1\n",
    "\n",
    "    total_words = sum(len(sent) for sent in ground_truth_tokens)\n",
    "    accuracy = covered_words / total_words\n",
    "    precision = matched_tokens / predicted_tokens_count if predicted_tokens_count else 0\n",
    "    recall = matched_tokens / ground_truth_tokens_count if ground_truth_tokens_count else 0\n",
    "    f1_score = 2 * precision * recall / (precision + recall) if precision + recall else 0\n",
    "    average_jaccard = sum(jaccard_similarities) / len(jaccard_similarities)\n",
    "\n",
    "    return {\n",
    "        \"accuracy\": accuracy,\n",
    "        \"coverage\": coverage,\n",
    "        \"precision\": precision,\n",
    "        \"recall\": recall,\n",
    "        \"f1_score\": f1_score,\n",
    "        \"jaccard_similarity\": average_jaccard\n",
    "    }"
   ]
  },
  {
   "cell_type": "code",
   "execution_count": 474,
   "id": "c3ee9c21-046d-4cc8-9d1b-dff5289caea7",
   "metadata": {},
   "outputs": [],
   "source": [
    "\n",
    "\n",
    "evaluation_books = ['austen-emma.txt', 'blake-poems.txt', 'shakespeare-hamlet.txt'] \n",
    "\n",
    "\n",
    "evaluation_texts = [gutenberg.raw(book) for book in evaluation_books]\n",
    "\n",
    "\n",
    "evaluation_texts = [preprocess_text(text) for text in evaluation_texts] \n"
   ]
  },
  {
   "cell_type": "markdown",
   "id": "189be408-267e-4dd8-84eb-504bdf9bc684",
   "metadata": {},
   "source": [
    "# 4. Create Reference Tokenization (2 marks):"
   ]
  },
  {
   "cell_type": "code",
   "execution_count": 476,
   "id": "9ed1420d-95fb-47f0-b240-8169c85bf452",
   "metadata": {},
   "outputs": [
    {
     "name": "stdout",
     "output_type": "stream",
     "text": [
      "Processing text 1/3: [emma jane austen 1816] volume chapter emma woodho...\n",
      "Processing text 2/3: [poems william blake 1789] songs innocence experie...\n",
      "Processing text 3/3: [the tragedie hamlet william shakespeare 1599] act...\n",
      "Processing text 1/3: [emma jane austen 1816] volume chapter emma woodho...\n",
      "Processing text 2/3: [poems william blake 1789] songs innocence experie...\n",
      "Processing text 3/3: [the tragedie hamlet william shakespeare 1599] act...\n"
     ]
    }
   ],
   "source": [
    "\n",
    "punkt_tokenized_texts = []\n",
    "for i, text in enumerate(evaluation_texts):\n",
    "    sentences = sent_tokenize(text)\n",
    "    punkt_tokenized_sentences = [word_tokenize(sent) for sent in sentences]\n",
    "    punkt_tokenized_texts.append(punkt_tokenized_sentences)\n",
    "    print(f\"Processing text {i+1}/{len(evaluation_texts)}: {text[:50]}...\")\n",
    "\n",
    "\n",
    "word_tokenize_texts = []\n",
    "for i, text in enumerate(evaluation_texts):\n",
    "    word_tokenize_texts.append([word_tokenize(sent) for sent in sent_tokenize(text)])\n",
    "    print(f\"Processing text {i+1}/{len(evaluation_texts)}: {text[:50]}...\") \n"
   ]
  },
  {
   "cell_type": "code",
   "execution_count": 477,
   "id": "82ce6b8d-19fb-4ef9-8779-09318055f6f8",
   "metadata": {},
   "outputs": [
    {
     "name": "stdout",
     "output_type": "stream",
     "text": [
      "Training BPE model...\n",
      "BPE model training complete.\n",
      "Processing text 1/3: [emma jane austen 1816] volume chapter emma woodho...\n",
      "Processing text 2/3: [poems william blake 1789] songs innocence experie...\n",
      "Processing text 3/3: [the tragedie hamlet william shakespeare 1599] act...\n"
     ]
    }
   ],
   "source": [
    "\n",
    "\n",
    "train_books = ['melville-moby_dick.txt', 'carroll-alice.txt', 'blake-poems.txt'] \n",
    "train_texts = [gutenberg.raw(book) for book in train_books]\n",
    "print(\"Training BPE model...\")\n",
    "bpe_model = BPE()\n",
    "bpe_model.train(train_texts, num_merges=10000) \n",
    "print(\"BPE model training complete.\")\n",
    "\n",
    "\n",
    "bpe_tokenized_texts = []\n",
    "for i, text in enumerate(evaluation_texts):\n",
    "    sentences = sent_tokenize(text)\n",
    "    bpe_tokenized_sentences = [[bpe_model.tokenize(word) for word in sent.split()] for sent in sentences]\n",
    "    bpe_tokenized_texts.append(bpe_tokenized_sentences)\n",
    "    print(f\"Processing text {i+1}/{len(evaluation_texts)}: {text[:50]}...\")\n"
   ]
  },
  {
   "cell_type": "markdown",
   "id": "2c470dad-3f53-449b-9552-2c435b53afde",
   "metadata": {},
   "source": [
    "# 5. Compare with Standard Tokenization (2 marks)"
   ]
  },
  {
   "cell_type": "code",
   "execution_count": 509,
   "id": "3f605a60-0948-4d44-b3e9-0c1b965722a8",
   "metadata": {},
   "outputs": [],
   "source": [
    "\n",
    "bpe_metrics = evaluate_tokenization(bpe_tokenized_texts, punkt_tokenized_texts) \n",
    "punkt_metrics = evaluate_tokenization(punkt_tokenized_texts, punkt_tokenized_texts)  # Perfect baseline for punkt\n",
    "word_tokenize_metrics = evaluate_tokenization(word_tokenize_texts, punkt_tokenized_texts)\n"
   ]
  },
  {
   "cell_type": "code",
   "execution_count": 511,
   "id": "154eae52-21f4-42d3-9adb-81895abc12f5",
   "metadata": {
    "scrolled": true
   },
   "outputs": [
    {
     "name": "stdout",
     "output_type": "stream",
     "text": [
      "BPE Metrics: {'accuracy': 0.7203098950671766, 'coverage': 4.008666666666667, 'precision': 0.1526892022715251, 'recall': 0.10773716048252502, 'f1_score': 0.12633360858794387, 'jaccard_similarity': 0.06000868969496997}\n",
      "punkt Metrics: {'accuracy': 1.0, 'coverage': 4.008666666666667, 'precision': 0.8838616085575657, 'recall': 0.8838616085575657, 'f1_score': 0.8838616085575657, 'jaccard_similarity': 1.0}\n",
      "word_tokenize Metrics: {'accuracy': 1.0, 'coverage': 4.008666666666667, 'precision': 0.8838616085575657, 'recall': 0.8838616085575657, 'f1_score': 0.8838616085575657, 'jaccard_similarity': 1.0}\n"
     ]
    }
   ],
   "source": [
    "\n",
    "\n",
    "print(\"BPE Metrics:\", bpe_metrics)\n",
    "print(\"punkt Metrics:\", punkt_metrics)\n",
    "print(\"word_tokenize Metrics:\", word_tokenize_metrics)"
   ]
  },
  {
   "cell_type": "markdown",
   "id": "1feaa157-f169-4d04-9362-e6d7b3ef61de",
   "metadata": {},
   "source": [
    "# 6. Visualizations (2 marks)"
   ]
  },
  {
   "cell_type": "code",
   "execution_count": 541,
   "id": "76c12d51-a4f9-4e5c-9d4e-ba316f4afca6",
   "metadata": {},
   "outputs": [
    {
     "data": {
      "image/png": "[encoded data removed]",
      "text/plain": [
       "<Figure size 1000x600 with 1 Axes>"
      ]
     },
     "metadata": {},
     "output_type": "display_data"
    },
    {
     "data": {
      "image/png": "[encoded data removed]",
      "text/plain": [
       "<Figure size 1000x600 with 1 Axes>"
      ]
     },
     "metadata": {},
     "output_type": "display_data"
    }
   ],
   "source": [
    "import matplotlib.pyplot as plt\n",
    "import numpy as np\n",
    "from collections import Counter\n",
    "\n",
    "\n",
    "def get_vocab(text):\n",
    "    vocab = Counter()\n",
    "    for word in text:\n",
    "        word = ' '.join(list(word))  # Split word into individual characters\n",
    "        vocab[word] += 1\n",
    "    return vocab\n",
    "\n",
    "\n",
    "def get_stats(vocab):\n",
    "    pairs = Counter()\n",
    "    for word, freq in vocab.items():\n",
    "        symbols = word.split()\n",
    "        for i in range(len(symbols) - 1):\n",
    "            pair = (symbols[i], symbols[i + 1])\n",
    "            pairs[pair] += freq\n",
    "    return pairs\n",
    "\n",
    "\n",
    "def merge_vocab(pair, vocab):\n",
    "    merged_vocab = {}\n",
    "    bigram = ' '.join(pair)\n",
    "    replacement = ''.join(pair)\n",
    "    for word in vocab:\n",
    "        new_word = word.replace(bigram, replacement)\n",
    "        merged_vocab[new_word] = vocab[word]\n",
    "    return merged_vocab\n",
    "\n",
    "\n",
    "def visualize_bpe_learning(text, num_merges=10):\n",
    "    vocab = get_vocab(text)\n",
    "    vocab_size_per_merge = []\n",
    "    merge_frequencies = []\n",
    "    \n",
    "    for i in range(num_merges):\n",
    "        pairs = get_stats(vocab)\n",
    "        if not pairs:\n",
    "            break\n",
    "        best_pair = max(pairs, key=pairs.get)\n",
    "        merge_frequencies.append(pairs[best_pair])\n",
    "        vocab = merge_vocab(best_pair, vocab)\n",
    "        vocab_size_per_merge.append(len(vocab))\n",
    "    \n",
    "    \n",
    "    if len(vocab_size_per_merge) > 0:\n",
    "        plt.figure(figsize=(10, 6))\n",
    "        plt.plot(range(1, len(vocab_size_per_merge) + 1), vocab_size_per_merge, marker='o', color='blue', label='Vocabulary Size')\n",
    "        plt.title('Vocabulary Size Evolution in BPE')\n",
    "        plt.xlabel('Number of Merges')\n",
    "        plt.ylabel('Vocabulary Size')\n",
    "        plt.grid(True)\n",
    "        plt.legend()\n",
    "        plt.show()\n",
    "\n",
    "        plt.figure(figsize=(10, 6))\n",
    "        plt.plot(range(1, len(merge_frequencies) + 1), merge_frequencies, marker='o', color='green', label='Merge Frequency')\n",
    "        plt.title('Frequency of Byte Pair Merges in BPE')\n",
    "        plt.xlabel('Number of Merges')\n",
    "        plt.ylabel('Merge Frequency')\n",
    "        plt.grid(True)\n",
    "        plt.legend()\n",
    "        plt.show()\n",
    "    else:\n",
    "        print(\"No merges occurred, possibly due to insufficient vocabulary for merging.\")\n",
    "\n",
    "\n",
    "text_data = ['low', 'lower', 'newer', 'widest', 'fine', 'finer', 'lively', 'finest']\n",
    "\n",
    "\n",
    "visualize_bpe_learning(text_data, num_merges=10)\n"
   ]
  },
  {
   "cell_type": "code",
   "execution_count": null,
   "id": "cd42c625-9e8c-4eaf-bb32-bb61c90e1298",
   "metadata": {},
   "outputs": [],
   "source": []
  }
 ],
 "metadata": {
  "kernelspec": {
   "display_name": "Python 3 (ipykernel)",
   "language": "python",
   "name": "python3"
  },
  "language_info": {
   "codemirror_mode": {
    "name": "ipython",
    "version": 3
   },
   "file_extension": ".py",
   "mimetype": "text/x-python",
   "name": "python",
   "nbconvert_exporter": "python",
   "pygments_lexer": "ipython3",
   "version": "3.12.4"
  }
 },
 "nbformat": 4,
 "nbformat_minor": 5
}
