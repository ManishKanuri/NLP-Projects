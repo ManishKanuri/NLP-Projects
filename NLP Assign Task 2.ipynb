{
 "cells": [
  {
   "cell_type": "markdown",
   "id": "a2d8a5f2-3687-421d-a298-1c82c301d416",
   "metadata": {},
   "source": [
    "# Manish Kanuri\n",
    "# NUID: 002315456"
   ]
  },
  {
   "cell_type": "markdown",
   "id": "a629b1df-220d-49ba-8e30-a8c42e7b94d1",
   "metadata": {},
   "source": [
    "# importing Libraries"
   ]
  },
  {
   "cell_type": "code",
   "execution_count": 33,
   "id": "39b03624-f2f6-4123-bd14-9fb618e6c665",
   "metadata": {},
   "outputs": [],
   "source": [
    "import nltk\n",
    "import gensim\n",
    "import string\n",
    "import numpy as np\n",
    "from nltk.corpus import stopwords\n",
    "from nltk.tokenize import word_tokenize\n",
    "from sklearn.datasets import fetch_20newsgroups\n",
    "from gensim.models import Word2Vec\n"
   ]
  },
  {
   "cell_type": "code",
   "execution_count": 35,
   "id": "90974e14-e287-44f6-a626-f1fab0358a3f",
   "metadata": {},
   "outputs": [
    {
     "name": "stderr",
     "output_type": "stream",
     "text": [
      "[nltk_data] Downloading package punkt to\n",
      "[nltk_data]     /Users/manishkanuri/nltk_data...\n",
      "[nltk_data]   Package punkt is already up-to-date!\n",
      "[nltk_data] Downloading package stopwords to\n",
      "[nltk_data]     /Users/manishkanuri/nltk_data...\n",
      "[nltk_data]   Package stopwords is already up-to-date!\n"
     ]
    },
    {
     "data": {
      "text/plain": [
       "True"
      ]
     },
     "execution_count": 35,
     "metadata": {},
     "output_type": "execute_result"
    }
   ],
   "source": [
    "# Download required NLTK resources\n",
    "nltk.download('punkt')\n",
    "nltk.download('stopwords')"
   ]
  },
  {
   "cell_type": "code",
   "execution_count": 37,
   "id": "e8fc5218-5d3a-475f-9310-fb361b2e83b2",
   "metadata": {},
   "outputs": [],
   "source": [
    "# Load 20 Newsgroups dataset with selected categories\n",
    "categories = [\n",
    "    'comp.graphics', 'comp.os.ms-windows.misc', 'comp.sys.ibm.pc.hardware', 'comp.sys.mac.hardware',\n",
    "    'rec.autos', 'rec.motorcycles', 'rec.sport.baseball', 'rec.sport.hockey',\n",
    "    'sci.med', 'sci.space'\n",
    "]\n",
    "newsgroups_data = fetch_20newsgroups(subset='all', categories=categories, remove=('headers', 'footers', 'quotes'))"
   ]
  },
  {
   "cell_type": "code",
   "execution_count": 39,
   "id": "d1c55326-3064-496b-a075-5295deade5ad",
   "metadata": {},
   "outputs": [],
   "source": [
    "# Preprocessing function\n",
    "def preprocess(text):\n",
    "    stop_words = set(stopwords.words('english'))\n",
    "    text = text.lower()  # Lowercase\n",
    "    tokens = word_tokenize(text)  # Tokenization\n",
    "    tokens = [word for word in tokens if word.isalpha()]  # Remove punctuation and numbers\n",
    "    tokens = [word for word in tokens if word not in stop_words]  # Remove stopwords\n",
    "    return tokens\n"
   ]
  },
  {
   "cell_type": "code",
   "execution_count": 41,
   "id": "2219f47a-ed96-4ded-ae65-bd28d2e5a878",
   "metadata": {},
   "outputs": [],
   "source": [
    "# Preprocess all documents\n",
    "documents = [preprocess(doc) for doc in newsgroups_data.data]"
   ]
  },
  {
   "cell_type": "markdown",
   "id": "10d90e0d-2c16-4c1a-b12c-0f1ca840419b",
   "metadata": {},
   "source": [
    "# Task 2: Learning Word Embeddings with CBOW"
   ]
  },
  {
   "cell_type": "markdown",
   "id": "daad08fd-2cd3-4395-9936-89fbca74ed2b",
   "metadata": {},
   "source": [
    "# Train CBOW model\n",
    "\n",
    "\n",
    "\n",
    "\n"
   ]
  },
  {
   "cell_type": "code",
   "execution_count": 13,
   "id": "4a51df5f-fb23-46bb-9e70-b21fa855274a",
   "metadata": {},
   "outputs": [],
   "source": [
    "\n",
    "cbow_model = Word2Vec(sentences=documents, vector_size=100, window=5, min_count=2, sg=0)  # CBOW (sg=0)\n"
   ]
  },
  {
   "cell_type": "code",
   "execution_count": 15,
   "id": "69276857-2952-426d-89eb-ea9b46e941b8",
   "metadata": {},
   "outputs": [],
   "source": [
    "# Function to compute document embeddings\n",
    "def document_embedding(doc, model):\n",
    "    vectors = [model.wv[word] for word in doc if word in model.wv]\n",
    "    return np.mean(vectors, axis=0) if vectors else np.zeros(model.vector_size)\n"
   ]
  },
  {
   "cell_type": "markdown",
   "id": "58359645-e2f9-4edf-9b0a-deb69984a175",
   "metadata": {},
   "source": [
    "\n",
    "# Create Document Embeddings:"
   ]
  },
  {
   "cell_type": "code",
   "execution_count": 21,
   "id": "2124f0c9-dbe5-4627-a681-6f9e9b46f2de",
   "metadata": {},
   "outputs": [],
   "source": [
    "# Generate document embeddings\n",
    "doc_embeddings = np.array([document_embedding(doc, cbow_model) for doc in documents])\n"
   ]
  },
  {
   "cell_type": "code",
   "execution_count": 23,
   "id": "953d80ed-c9bb-4e54-8d2f-542c8e4c1fc9",
   "metadata": {},
   "outputs": [
    {
     "name": "stdout",
     "output_type": "stream",
     "text": [
      "CBOW model trained and document embeddings generated successfully!\n"
     ]
    }
   ],
   "source": [
    "\n",
    "cbow_model.save(\"cbow_model.model\")\n",
    "np.save(\"document_embeddings.npy\", doc_embeddings)\n",
    "\n",
    "print(\"CBOW model trained and document embeddings generated successfully!\")"
   ]
  },
  {
   "cell_type": "code",
   "execution_count": 45,
   "id": "40402679-eabe-46e2-8b99-614dce391a95",
   "metadata": {},
   "outputs": [
    {
     "name": "stdout",
     "output_type": "stream",
     "text": [
      "Word Embedding for 'computer': [ 0.71939987 -0.31837097  0.7039463   0.45006615 -0.80112344  0.02976685\n",
      "  0.21867469  0.8984376  -0.28843617  0.00264879 -0.6908443  -0.07409393\n",
      " -0.04769119  0.42799783 -0.14609684 -1.7355009  -0.7286411  -0.5416821\n",
      " -0.22260827  0.7112805   0.8554217   0.51646304  0.07885887  0.24369639\n",
      "  0.27968678 -1.572685    1.137539   -0.41310695 -1.2207056   0.26457062\n",
      "  0.22673768 -1.1824219   0.7909092  -0.64247775 -1.395918    0.20569639\n",
      " -0.6160439   0.46854374 -0.52055466 -0.58653903  0.7467412   0.18729703\n",
      " -0.03251467  0.26839614  0.26292673 -1.0121353  -0.30293158 -0.40895826\n",
      "  0.28031364  0.5059782  -0.49798587 -0.5365056   0.1022948  -0.590073\n",
      " -0.48605216  0.19290116 -0.48190674 -1.180519   -0.22461763 -1.1874369\n",
      " -0.2586348   1.3376738  -2.109826   -0.59296495 -1.4471766   0.8931337\n",
      "  0.05172931 -0.11800902 -0.38829145  0.1365606  -0.43566728  0.7250679\n",
      "  0.48281989 -0.5169085   1.0362197   0.02768077  0.7142042  -0.2578113\n",
      " -0.4133996   0.6574392   0.03035843  0.17118023 -0.30951563  0.08994708\n",
      " -0.54032415 -0.5945659  -1.4003271   0.67225647  0.60428005  1.0547584\n",
      " -0.47358644 -0.24783972  0.512158    0.39117572  0.49848315  0.37575418\n",
      "  0.32981867 -0.04760917  0.16571699 -0.4314236 ]\n",
      "Word Embedding for 'space': [ 0.85262537  0.5307051  -0.56775874 -1.777637   -1.00594     1.7655714\n",
      "  0.5540732  -0.0933434  -0.59506583 -1.1424258  -0.75653064 -0.4665198\n",
      "  0.1187674   0.6149838   1.9824014  -0.5860445  -0.353532    1.6716552\n",
      " -0.23990741  0.3130174  -0.39495513  0.45733434  0.2969682   0.06381218\n",
      " -0.1731674   0.533664    0.61321735 -0.8956636  -0.66968405  0.75420237\n",
      " -1.1875848  -0.0651458   2.1927543  -1.0651674  -0.53714794  0.6603496\n",
      " -0.7156567   1.9389973  -1.7881497   1.2828451   0.92338336  0.18090251\n",
      "  0.3885103  -0.99277097 -0.18602738 -2.054102    1.0502573  -0.5113993\n",
      "  1.1934018   0.2974365  -0.4717277  -0.23111197  0.0640773  -1.6863464\n",
      " -0.6366384   0.26488018 -1.3075701   0.28355223  1.0388982  -1.2764245\n",
      "  0.08441531  1.6783297  -3.9811072  -0.54604983  0.78858453  1.2140967\n",
      "  1.0585673   0.24502288 -0.6279638  -1.5258313  -0.20075004  1.5850366\n",
      "  0.35171703 -1.5551783   1.6429971  -0.4353396   0.7713114  -0.13380285\n",
      " -0.21940662  1.5785084  -0.2853586   0.23486263 -0.8857093  -1.0965792\n",
      " -0.0558827  -1.4326711  -2.3432546  -0.56753063  0.40199128  1.673431\n",
      " -0.23069979 -0.74793386 -0.05448815  1.206144    0.02942243  0.53622735\n",
      "  0.6504686   0.81846005 -0.5078395  -0.9159537 ]\n",
      "CBOW model trained and document embeddings generated successfully!\n"
     ]
    }
   ],
   "source": [
    "# Example of two words\n",
    "print(\"Word Embedding for 'computer':\", cbow_model.wv['computer'] if 'computer' in cbow_model.wv else \"Not in vocabulary\")\n",
    "print(\"Word Embedding for 'space':\", cbow_model.wv['space'] if 'space' in cbow_model.wv else \"Not in vocabulary\")\n",
    "\n",
    "print(\"CBOW model trained and document embeddings generated successfully!\")\n"
   ]
  },
  {
   "cell_type": "code",
   "execution_count": null,
   "id": "7800751a-21ef-4ab5-b081-c597b74a456f",
   "metadata": {},
   "outputs": [],
   "source": []
  }
 ],
 "metadata": {
  "kernelspec": {
   "display_name": "Python 3 (ipykernel)",
   "language": "python",
   "name": "python3"
  },
  "language_info": {
   "codemirror_mode": {
    "name": "ipython",
    "version": 3
   },
   "file_extension": ".py",
   "mimetype": "text/x-python",
   "name": "python",
   "nbconvert_exporter": "python",
   "pygments_lexer": "ipython3",
   "version": "3.12.4"
  }
 },
 "nbformat": 4,
 "nbformat_minor": 5
}
