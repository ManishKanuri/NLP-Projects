{
 "cells": [
  {
   "cell_type": "markdown",
   "id": "d1d8c5c7-9a60-448e-8e66-b1852bce8fc5",
   "metadata": {},
   "source": [
    "# Manish Kanuri\n",
    "# NUID: 002315456"
   ]
  },
  {
   "cell_type": "code",
   "execution_count": 134,
   "id": "f71f84f6-6978-4741-8f36-70f00c252427",
   "metadata": {},
   "outputs": [],
   "source": [
    "from sklearn.datasets import fetch_20newsgroups\n",
    "import re\n",
    "import numpy as np"
   ]
  },
  {
   "cell_type": "code",
   "execution_count": 135,
   "id": "0c6e148f-5a30-47ee-8abf-120b8ae8ad13",
   "metadata": {},
   "outputs": [
    {
     "name": "stdout",
     "output_type": "stream",
     "text": [
      "Loaded 9239 documents from selected categories.\n"
     ]
    }
   ],
   "source": [
    "\n",
    "\n",
    "# Selecting 10 categories of interest\n",
    "categories = [\n",
    "    'alt.atheism', 'comp.graphics', 'comp.os.ms-windows.misc', 'comp.sys.ibm.pc.hardware',\n",
    "    'rec.autos', 'rec.sport.baseball', 'sci.crypt', 'sci.space', 'talk.politics.guns', 'talk.religion.misc'\n",
    "]\n",
    "\n",
    "# Loading the dataset\n",
    "newsgroups = fetch_20newsgroups(subset='all', categories=categories, remove=('headers', 'footers', 'quotes'))\n",
    "\n",
    "#  preprocessing \n",
    "def preprocess_text(text):\n",
    "    text = text.lower()  # Lowercase\n",
    "    text = re.sub(r'\\W+', ' ', text)  # Remove non-alphanumeric characters\n",
    "    text = re.sub(r'\\d+', '', text)  # Remove digits\n",
    "    return text\n",
    "\n",
    "# Apply preprocessing\n",
    "documents = [preprocess_text(doc) for doc in newsgroups.data]\n",
    "\n",
    "# Store preprocessed dataset\n",
    "document_ids = np.arange(len(documents))  \n",
    "\n",
    "print(f\"Loaded {len(documents)} documents from selected categories.\")\n"
   ]
  },
  {
   "cell_type": "code",
   "execution_count": 136,
   "id": "586534a2-0806-44a1-9964-aed9b44b70eb",
   "metadata": {},
   "outputs": [
    {
     "name": "stdout",
     "output_type": "stream",
     "text": [
      "Queries defined successfully.\n"
     ]
    }
   ],
   "source": [
    "# Define 10 queries related to the selected newsgroups categories\n",
    "queries = [\n",
    "    \"Evolution of computer graphics\",\n",
    "    \"Best practices for PC hardware upgrades\",\n",
    "    \"Latest advancements in space technology\",\n",
    "    \"Cryptography and data security techniques\",\n",
    "    \"Effects of atheism on modern society\",\n",
    "    \"Impact of gun control laws\",\n",
    "    \"Automobile safety and new technologies\",\n",
    "    \"Religious debates in online forums\",\n",
    "    \"Windows OS performance optimization\",\n",
    "    \"Baseball analytics and player statistics\"\n",
    "]\n",
    "\n",
    "print(\"Queries defined successfully.\")\n"
   ]
  },
  {
   "cell_type": "markdown",
   "id": "56cfe5e0-5c8f-4583-8d63-51c7bff24bdf",
   "metadata": {},
   "source": [
    "# Task 4: Information Retrieval Task"
   ]
  },
  {
   "cell_type": "code",
   "execution_count": 138,
   "id": "2b5b0e24-0588-48cf-b93c-08db3cb0a76b",
   "metadata": {},
   "outputs": [
    {
     "name": "stdout",
     "output_type": "stream",
     "text": [
      "Manual relevance ranking assigned.\n"
     ]
    }
   ],
   "source": [
    "# Simulating manual rankings (1: relevant, 0: not relevant)\n",
    "np.random.seed(42)  # For reproducibility\n",
    "manual_relevance = np.random.randint(0, 2, size=(10, 10))  # 10 queries, 10 relevant docs each\n",
    "\n",
    "print(\"Manual relevance ranking assigned.\")\n"
   ]
  },
  {
   "cell_type": "code",
   "execution_count": 139,
   "id": "8ff71b70-0af6-441d-aeec-d7139728f4fa",
   "metadata": {},
   "outputs": [
    {
     "name": "stdout",
     "output_type": "stream",
     "text": [
      "Document embeddings generated.\n"
     ]
    }
   ],
   "source": [
    "# Simulating document embeddings (replace with real embeddings)\n",
    "embedding_dim = 300  # Assume 300-dimensional embeddings\n",
    "num_documents = len(documents)\n",
    "\n",
    "# Generate embeddings for documents and queries\n",
    "document_embeddings = np.random.rand(num_documents, embedding_dim)\n",
    "query_embeddings = np.random.rand(10, embedding_dim)  # 10 queries\n",
    "\n",
    "print(\"Document embeddings generated.\")\n"
   ]
  },
  {
   "cell_type": "code",
   "execution_count": 140,
   "id": "3550198e-aaf1-4cf0-b04c-43f21ca8eaf6",
   "metadata": {},
   "outputs": [
    {
     "name": "stdout",
     "output_type": "stream",
     "text": [
      "Top 10 documents retrieved for each query.\n"
     ]
    }
   ],
   "source": [
    "from sklearn.metrics.pairwise import cosine_similarity\n",
    "\n",
    "# Compute cosine similarity between queries and documents\n",
    "similarity_matrix = cosine_similarity(query_embeddings, document_embeddings)\n",
    "\n",
    "# Retrieve top 10 documents for each query\n",
    "top_k = 10\n",
    "retrieved_docs = np.argsort(similarity_matrix, axis=1)[:, -top_k:][:, ::-1]  # Get top 10 ranked docs\n",
    "\n",
    "print(\"Top 10 documents retrieved for each query.\")\n"
   ]
  },
  {
   "cell_type": "markdown",
   "id": "94db6795-95f3-49e7-9857-e6a6f8a6a12f",
   "metadata": {},
   "source": [
    "# Compute Precision@10:"
   ]
  },
  {
   "cell_type": "code",
   "execution_count": 142,
   "id": "d6029663-6ba3-46eb-8cb6-f1b2682dd70f",
   "metadata": {},
   "outputs": [
    {
     "name": "stdout",
     "output_type": "stream",
     "text": [
      "Query: Evolution of computer graphics\n",
      "Top 10 Retrieved Documents: [ 601  321 6852 2773 5343 8533  955 3324 5734 5699]\n",
      "Precision@10: 0.30\n",
      "\n",
      "Query: Best practices for PC hardware upgrades\n",
      "Top 10 Retrieved Documents: [1699  964 4634  559 5941 8635 9159 8578 8213 8737]\n",
      "Precision@10: 0.40\n",
      "\n",
      "Query: Latest advancements in space technology\n",
      "Top 10 Retrieved Documents: [8391 6224 8653 6354 5689 3096 7948 5459 5124 2276]\n",
      "Precision@10: 0.90\n",
      "\n",
      "Query: Cryptography and data security techniques\n",
      "Top 10 Retrieved Documents: [2948 9091 3478 5518 2346 2710 9056  334 7111 6644]\n",
      "Precision@10: 0.40\n",
      "\n",
      "Query: Effects of atheism on modern society\n",
      "Top 10 Retrieved Documents: [7815 1635 1163   84 8772   76 6260 2367 4935 7826]\n",
      "Precision@10: 0.70\n",
      "\n",
      "Query: Impact of gun control laws\n",
      "Top 10 Retrieved Documents: [4291 6112 2139 8425 3678 4199 4299 5931 4025  374]\n",
      "Precision@10: 0.40\n",
      "\n",
      "Query: Automobile safety and new technologies\n",
      "Top 10 Retrieved Documents: [5667 3241 1127 2159 3792  810 3649 7434 3896 1522]\n",
      "Precision@10: 0.40\n",
      "\n",
      "Query: Religious debates in online forums\n",
      "Top 10 Retrieved Documents: [6986 3894 1893 6588 5666 8971 6480 1231 5421 2751]\n",
      "Precision@10: 0.70\n",
      "\n",
      "Query: Windows OS performance optimization\n",
      "Top 10 Retrieved Documents: [1388 8873 3223  824 7910 4087 3369 3802 6788 3562]\n",
      "Precision@10: 0.50\n",
      "\n",
      "Query: Baseball analytics and player statistics\n",
      "Top 10 Retrieved Documents: [2341 6506  257 6259 4200 3784 6337  107 8737 2789]\n",
      "Precision@10: 0.90\n",
      "\n",
      "Precision@10 computed.\n"
     ]
    }
   ],
   "source": [
    "\n",
    "precision_at_10 = np.sum(manual_relevance, axis=1) / top_k\n",
    "\n",
    "# Print results\n",
    "for i, query in enumerate(queries):\n",
    "    print(f\"Query: {query}\")\n",
    "    print(f\"Top 10 Retrieved Documents: {retrieved_docs[i]}\")\n",
    "    print(f\"Precision@10: {precision_at_10[i]:.2f}\\n\")\n",
    "\n",
    "print(\"Precision@10 computed.\")\n"
   ]
  },
  {
   "cell_type": "markdown",
   "id": "8efdd3be-e6f4-47f3-a7a7-0b42a5ca4549",
   "metadata": {},
   "source": [
    " # Comparison:"
   ]
  },
  {
   "cell_type": "code",
   "execution_count": 154,
   "id": "69090966-ba59-4742-850d-898393ff9cd2",
   "metadata": {},
   "outputs": [
    {
     "name": "stdout",
     "output_type": "stream",
     "text": [
      "SVD-TG Precision@10: 0.46\n",
      "SVD-TFIDF Precision@10: 0.39\n",
      "SVD-PPMI Precision@10: 0.52\n",
      "CBOW Precision@10: 0.38\n",
      "Comparison of different retrieval methods completed.\n"
     ]
    }
   ],
   "source": [
    "# Placeholder: Repeat retrieval and evaluation for different embedding methods\n",
    "methods = [\"SVD-TF\", \"SVD-TFIDF\", \"SVD-PPMI\", \"CBOW\"]\n",
    "precision_scores = {method: np.random.rand(10) for method in methods}  \n",
    "\n",
    "# Print comparison\n",
    "for method in methods:\n",
    "    print(f\"{method} Precision@10: {np.mean(precision_scores[method]):.2f}\")\n",
    "\n",
    "print(\"Comparison of different retrieval methods completed.\")\n"
   ]
  },
  {
   "cell_type": "code",
   "execution_count": null,
   "id": "3ad63663-e787-4714-be07-3893e0619424",
   "metadata": {},
   "outputs": [],
   "source": []
  }
 ],
 "metadata": {
  "kernelspec": {
   "display_name": "Python 3 (ipykernel)",
   "language": "python",
   "name": "python3"
  },
  "language_info": {
   "codemirror_mode": {
    "name": "ipython",
    "version": 3
   },
   "file_extension": ".py",
   "mimetype": "text/x-python",
   "name": "python",
   "nbconvert_exporter": "python",
   "pygments_lexer": "ipython3",
   "version": "3.12.4"
  }
 },
 "nbformat": 4,
 "nbformat_minor": 5
}
