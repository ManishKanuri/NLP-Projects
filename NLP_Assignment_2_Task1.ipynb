{
 "cells": [
  {
   "cell_type": "markdown",
   "id": "1927b15b-810a-4933-b66c-8048cbe16226",
   "metadata": {},
   "source": [
    "# Manish Kanuri\n",
    "# NUID: 002315456"
   ]
  },
  {
   "cell_type": "markdown",
   "id": "20891f40-3100-496f-9017-2a44dd21c85c",
   "metadata": {},
   "source": [
    "# importing libraries\n"
   ]
  },
  {
   "cell_type": "code",
   "execution_count": 293,
   "id": "238c5872-96f5-448c-a320-f24614016c7f",
   "metadata": {},
   "outputs": [],
   "source": [
    "import numpy as np\n",
    "import pandas as pd\n",
    "from sklearn.datasets import fetch_20newsgroups\n",
    "from sklearn.feature_extraction.text import CountVectorizer, TfidfVectorizer\n",
    "from sklearn.decomposition import TruncatedSVD\n",
    "from scipy.sparse import csr_matrix"
   ]
  },
  {
   "cell_type": "code",
   "execution_count": 294,
   "id": "5dd59657-0056-40b4-ad1f-0a393da7cc0c",
   "metadata": {},
   "outputs": [],
   "source": [
    "topics = ['comp.graphics', 'comp.sys.ibm.pc.hardware', 'rec.autos', 'rec.sport.baseball',\n",
    "          'rec.sport.hockey', 'sci.space', 'sci.med', 'sci.electronics', 'talk.politics.guns',\n",
    "          'talk.politics.mideast']"
   ]
  },
  {
   "cell_type": "code",
   "execution_count": 295,
   "id": "39d9dedc-cfd5-4bea-acd9-f751207973e8",
   "metadata": {},
   "outputs": [],
   "source": [
    "# Loading dataset\n",
    "newsgroups = fetch_20newsgroups(subset='all', categories=topics, remove=('headers', 'footers', 'quotes'))"
   ]
  },
  {
   "cell_type": "code",
   "execution_count": 296,
   "id": "445c6c64-ca5e-4c55-a1d8-03a1f451157b",
   "metadata": {},
   "outputs": [],
   "source": [
    "\n",
    "if not newsgroups.data:\n",
    "    raise ValueError(\"Dataset is empty. Check selected categories.\")\n"
   ]
  },
  {
   "cell_type": "markdown",
   "id": "ea91f5de-c2bc-41fb-b74e-9e1a55718964",
   "metadata": {},
   "source": [
    "# Task 1: Applying SVD on Term-Document Matrices"
   ]
  },
  {
   "cell_type": "code",
   "execution_count": 318,
   "id": "a243a975-834d-4b63-a6bc-9bc50bc630fb",
   "metadata": {},
   "outputs": [
    {
     "name": "stdout",
     "output_type": "stream",
     "text": [
      "Sample document:  \n",
      "I agree. Adding layers of managers and bureaucrats simply eat up\n",
      "money that could be spent on those who actually are doing the work\n",
      "such as doctors and nurse, and supplies.  The most efficient system\n",
      "is probably one that has limited management and a fixed budget such\n",
      "as England's or even Canada's.  I'm afraid we are on the wrong\n",
      "track.  The problem may be that the insurance lobby is too powerful.\n",
      "\n",
      "\n",
      "\n",
      "\n",
      "-- \n",
      "----------------------------------------------------------------------------\n",
      "Gordon Banks  \n",
      "\n"
     ]
    }
   ],
   "source": [
    "\n",
    "print(\"Sample document:\", newsgroups.data[5][:500], \"\\n\")"
   ]
  },
  {
   "cell_type": "code",
   "execution_count": 320,
   "id": "2e0bfe64-274e-4c55-90b4-09c5512cbb6b",
   "metadata": {},
   "outputs": [],
   "source": [
    "# checking to see if the matrix is empty or not\n",
    "if X_tf.nnz == 0:\n",
    "    raise ValueError(\"Term Frequency matrix is empty. Adjust preprocessing settings.\")"
   ]
  },
  {
   "cell_type": "markdown",
   "id": "4396bf0f-26b6-44ba-a325-22020afbec84",
   "metadata": {},
   "source": [
    "# Prepare Term-Document Matrices:"
   ]
  },
  {
   "cell_type": "code",
   "execution_count": 333,
   "id": "2805153a-150d-4b0b-b615-6072a16f0f58",
   "metadata": {},
   "outputs": [
    {
     "name": "stdout",
     "output_type": "stream",
     "text": [
      "Term Frequency (TF) Matrix:\n",
      "   Term: 150  Term: 20  Term: ability  Term: actually  Term: also  \\\n",
      "0          0         0              0               1           1   \n",
      "1          0         0              0               0           0   \n",
      "2          0         0              0               0           0   \n",
      "3          0         0              1               0           0   \n",
      "4          1         1              0               0           0   \n",
      "\n",
      "   Term: ancient  Term: announced  Term: another  Term: anyone  Term: anyway  \\\n",
      "0              0                0              0             0             1   \n",
      "1              0                0              0             1             0   \n",
      "2              0                2              0             0             0   \n",
      "3              0                0              0             0             0   \n",
      "4              1                0              1             2             0   \n",
      "\n",
      "   ...  Term: vlb  Term: wanting  Term: wants  Term: watch  Term: weapons  \\\n",
      "0  ...          0              0            0            1              0   \n",
      "1  ...          1              0            0            0              0   \n",
      "2  ...          0              0            0            0              4   \n",
      "3  ...          0              1            1            0              0   \n",
      "4  ...          0              0            0            0              0   \n",
      "\n",
      "   Term: women  Term: work  Term: workers  Term: worse  Term: years  \n",
      "0            0           0              0            1            0  \n",
      "1            0           0              0            0            0  \n",
      "2            1           0              1            0            1  \n",
      "3            0           0              0            0            0  \n",
      "4            0           1              0            0            0  \n",
      "\n",
      "[5 rows x 198 columns]\n"
     ]
    }
   ],
   "source": [
    "# Displaying Term Frequency Matrix\n",
    "print(\"Term Frequency (TF) Matrix:\")\n",
    "feature_names = vectorizer_tf.get_feature_names_out()\n",
    "tf_df = pd.DataFrame(X_tf[:5].toarray(), columns=[\"Term: \" + term for term in feature_names])  # Show first 5 docs\n",
    "print(tf_df.loc[:, (tf_df != 0).any(axis=0)])  # Display only non-zero columns"
   ]
  },
  {
   "cell_type": "code",
   "execution_count": 324,
   "id": "1c2a950d-caec-4b8c-99e2-7e2a2a6ab2f9",
   "metadata": {},
   "outputs": [],
   "source": [
    "#  (PPMI)\n",
    "def compute_ppmi(matrix):\n",
    "    matrix = csr_matrix(matrix)  # Convert to sparse format\n",
    "    total_count = matrix.sum() + 1e-10  # Avoid division by zero\n",
    "    word_freqs = np.array(matrix.sum(axis=0)).flatten() + 1e-10\n",
    "    doc_freqs = np.array(matrix.sum(axis=1)).flatten() + 1e-10  \n",
    "    \n",
    "    expected = np.outer(doc_freqs, word_freqs) / total_count + 1e-10  \n",
    "    observed = matrix.toarray() * total_count + 1e-10  \n",
    "    \n",
    "    ppmi_matrix = np.log(observed / expected)  \n",
    "    ppmi_matrix[np.isneginf(ppmi_matrix)] = 0  \n",
    "    ppmi_matrix[ppmi_matrix < 0] = 0  \n",
    "    \n",
    "    return csr_matrix(ppmi_matrix)  \n",
    "\n",
    "X_ppmi = compute_ppmi(X_tf)"
   ]
  },
  {
   "cell_type": "code",
   "execution_count": 325,
   "id": "373de0db-1081-4b8e-ae2b-0efb1a8ac6ea",
   "metadata": {},
   "outputs": [],
   "source": [
    "# Apply SVD for dimensionality reduction\n",
    "svd_dim = 100  # Number of dimensions to retain\n",
    "\n",
    "def apply_svd(matrix, n_components=100):\n",
    "    svd = TruncatedSVD(n_components=n_components)\n",
    "    reduced_matrix = svd.fit_transform(matrix)\n",
    "    return reduced_matrix\n",
    "\n",
    "X_tf_svd = apply_svd(X_tf, svd_dim)\n",
    "X_tfidf_svd = apply_svd(X_tfidf, svd_dim)\n",
    "X_ppmi_svd = apply_svd(X_ppmi, svd_dim)\n"
   ]
  },
  {
   "cell_type": "code",
   "execution_count": 326,
   "id": "91ce0302-70ad-40f2-a06c-2ecdaa8275d1",
   "metadata": {},
   "outputs": [
    {
     "name": "stdout",
     "output_type": "stream",
     "text": [
      "TF SVD Shape: (18846, 100)\n",
      "TF-IDF SVD Shape: (18846, 100)\n",
      "PPMI SVD Shape: (18846, 100)\n"
     ]
    }
   ],
   "source": [
    "# Print shapes of transformed matrices\n",
    "print(\"TF SVD Shape:\", X_tf_svd.shape)\n",
    "print(\"TF-IDF SVD Shape:\", X_tfidf_svd.shape)\n",
    "print(\"PPMI SVD Shape:\", X_ppmi_svd.shape)"
   ]
  },
  {
   "cell_type": "code",
   "execution_count": null,
   "id": "17956780-b4a2-4f5f-ad38-bd249daa163a",
   "metadata": {},
   "outputs": [],
   "source": []
  },
  {
   "cell_type": "code",
   "execution_count": null,
   "id": "c46024c2-b256-42d5-8671-a3c51d3b48cb",
   "metadata": {},
   "outputs": [],
   "source": []
  }
 ],
 "metadata": {
  "kernelspec": {
   "display_name": "Python 3 (ipykernel)",
   "language": "python",
   "name": "python3"
  },
  "language_info": {
   "codemirror_mode": {
    "name": "ipython",
    "version": 3
   },
   "file_extension": ".py",
   "mimetype": "text/x-python",
   "name": "python",
   "nbconvert_exporter": "python",
   "pygments_lexer": "ipython3",
   "version": "3.12.4"
  }
 },
 "nbformat": 4,
 "nbformat_minor": 5
}
